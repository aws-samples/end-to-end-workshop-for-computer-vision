{
 "cells": [
  {
   "cell_type": "markdown",
   "metadata": {},
   "source": [
    "# End-to-end Edge Computer Vision (CV) Machine Learning (ML) Orchistration\n",
    "---\n",
    "**Table of Contents:**\n",
    "\n",
    "1. [Introduction](#Introduction)\n",
    "2. [Prerequisites](#Prerequisites)\n",
    "3. [Setup](#Setup)\n",
    "4. [Dataset](#Dataset)\n",
    "5. [Start a GroundTruth labeling workflow for CV](#Start-A-GroundTruth-Labeling-Workflow)\n",
    "6. [Pipeline Automation with S3 Lambda](#Pipeline-Automation-with-S3-Lambda)\n",
    "7. [Build a Training Pipeline](#Build-a-Training-Pipeline)\n",
    "    1. [Preprocessing Script](#Preprocessing-Script)\n",
    "    \n",
    "       1. [Bring Your Own Container (BYOC)](#Bring-Your-Own-Container-(BYOC))\n",
    "       \n",
    "       2. [Generate TFRecord for pipe mode](#Generate-TFRecord-for-pipe-mode)\n",
    "       \n",
    "       3. [Use Fast File Mode](#Use-Fast-File-Mode)\n",
    "    \n",
    "    2. [Training Script](#Training-Script)\n",
    "    \n",
    "       1. [SageMaker Debugger](#SageMaker-debugger)\n",
    "       \n",
    "    3. [Evaluation Script](#Evaluation-Script)\n",
    "    \n",
    "    4. [Pipeline Code](#Pipeline-Code)\n",
    "    \n",
    "    5. [Trigger the Pipeline](#Trigger-the-Pipeline)\n",
    "    \n",
    "8. [Manual approval for deployment](#Manual-approval-for-deployment)\n",
    "\n",
    "9. [Edge Deployment W/ AWS Panorama](#Edge-Deployment-W/-AWS-Panorama)\n",
    "    \n",
    "    1. [Setup device](#Setup-device)\n",
    "    \n",
    "    2. [Deploy applications and models](#Deploy-applications-and-models)\n",
    "    \n",
    "    3. [Setup Test Utility](#Setup-Test-Utility)\n",
    "    \n",
    "    4. [Run Panorama Application](#Run-Panorama-Application\n",
    ")\n",
    "    \n",
    "10. [Cleanup](#Clean-Up)"
   ]
  },
  {
   "cell_type": "markdown",
   "metadata": {},
   "source": [
    "## Introduction\n",
    "\n",
    "In this workshop, we will walk you through a step by step process to prepare, build and train computer vision models with Amazon SageMaker and deploy them to AWS panorama for edge inference. The workshop image classification of different species of birds, but the concept can be applied to a wide range of industrial applications. We will complete the CV MLOps lifecycle covering: data labeling, continuous integrated (CI/CD) training pipeline, model updates to the edge w/ approval, and, fianlly, edge inferencing and data capture back to the cloud.\n",
    "\n",
    "## Architecture\n",
    "---\n",
    "![MLOps Pattern](statics/end2end.png)\n",
    "\n",
    "The architecture we will build during this workshop is illustrated on the right. Several key components can be highlighted:\n",
    "\n",
    "1. **Data labeling w/ SageMaker GroundTruth**: We are using the CUB_MINI.tar data which is a subset of [Caltech Birds (CUB 200 2011)](http://www.vision.caltech.edu/visipedia/CUB-200-2011.html) dataset. The code below will spin up a GoundTruth labeling job for private/public workforce to label.  The output is a fully labeled manifest file that can be ingested by the atutomated training pipeline.\n",
    "\n",
    "2. **Automated training Pipeline** Once the dataset is fully labelled, we have prepared a SageMaker pipeline that will go through steps: preprocessing, model training, model evaluation, and storing the model to model registry.  At the same time, the example code will provide advance topics like streaming data with pipe mode and fast file mode, monitor training with SageMaker debugger, and distributed training to increase training effeciency and reduce training time.\n",
    "\n",
    "3. **Model Deployment & Edge Inferencing w/ AWS Panorama** With manual approval of the model in Model registry, we can kick off the edge deploymnet with a deployment lambda.  That can be accomplish using the AWS Panorama API.  We will also illustration the edge application development and testing using the AWSW Panorama Test Utility (Emulator)"
   ]
  },
  {
   "cell_type": "markdown",
   "metadata": {},
   "source": [
    "## Prerequisites\n",
    "\n",
    "To run this notebook, you can simply execute each cell in order. To understand what's happening, you'll need:\n",
    "\n",
    "- Access to the SageMaker default S3 bucket or use your own\n",
    "- The S3 bucket that you use for this demo must have a CORS policy attached. To learn more about this requirement, and how to attach a CORS policy to an S3 bucket, see [CORS Permission Requirement](https://docs.aws.amazon.com/sagemaker/latest/dg/sms-cors-update.html)\n",
    "- <span style=\"color:red\">The notebook use public workforce (Mechanical Turk) for the groundTruth labeling job. That will incur some cost at **$0.012 per image**.  If want to use a prviate workforce, then you must have a private workforce already created and update the code with your private workforce ARN. Please follow this [AWS documentation](https://docs.aws.amazon.com/sagemaker/latest/dg/sms-workforce-create-private-console.html) on how to create a private workforce</span>\n",
    "- Access to Elastic Container Registry (ECR)\n",
    "- Familiarity with Training on Amazon SageMaker\n",
    "- Familiarity with SageMaker Processing Job\n",
    "- Familiarity with SageMaker Pipeline\n",
    "- Familiarity with Python\n",
    "- Familiarity with AWS S3\n",
    "- Basic familiarity with AWS Command Line Interface (CLI) -- ideally, you should have it set up with credentials to access the AWS account you're running this notebook from.\n",
    "- SageMaker Studio is preferred for the full UI integration"
   ]
  },
  {
   "cell_type": "markdown",
   "metadata": {},
   "source": [
    "## Setup\n",
    "\n",
    "---\n",
    "import the libraries and intialize the parameters for this workshop"
   ]
  },
  {
   "cell_type": "code",
   "execution_count": null,
   "metadata": {},
   "outputs": [],
   "source": [
    "import sagemaker\n",
    "import boto3\n",
    "import os\n",
    "import time\n",
    "import datetime\n",
    "import json\n",
    "import numpy as np\n",
    "import pprint as pp\n",
    "\n",
    "from collections import namedtuple\n",
    "from collections import defaultdict\n",
    "from collections import Counter\n",
    "\n",
    "\n",
    "\n",
    "import matplotlib.pyplot as plt\n",
    "\n",
    "sagemaker_session = sagemaker.Session()\n",
    "\n",
    "default_bucket = sagemaker_session.default_bucket() # or use your own custom bucket name\n",
    "region = sagemaker_session.boto_region_name\n",
    "account = sagemaker_session.account_id()\n",
    "role = sagemaker.get_execution_role()\n",
    "\n",
    "sess = sagemaker.Session()\n",
    "\n",
    "base_job_prefix = 'BirdEnd2End'"
   ]
  },
  {
   "cell_type": "markdown",
   "metadata": {
    "jp-MarkdownHeadingCollapsed": true,
    "tags": []
   },
   "source": [
    "## Dataset\n",
    "The dataset we are using is from [Caltech Birds (CUB 200 2011)](http://www.vision.caltech.edu/visipedia/CUB-200-2011.html) dataset contains 11,788 images across 200 bird species (the original technical report can be found here). Each species comes with around 60 images, with a typical size of about 350 pixels by 500 pixels. Bounding boxes are provided, as are annotations of bird parts. A recommended train/test split is given, but image size data is not.\n",
    "\n",
    "![Bird Dataset](statics/birds.png)\n",
    "\n",
    "If you kept the data set from previous lab, just copy the files here.  Otherwise, run the cell below to download the full dataset or download manually [here](https://course.fast.ai/datasets). Note that the file size is around 1.2 GB, and can take a while to download. If you plan to complete the entire workshop, please keep the file to avoid re-download and re-process the data."
   ]
  },
  {
   "cell_type": "code",
   "execution_count": null,
   "metadata": {},
   "outputs": [],
   "source": [
    "!wget 'https://s3.amazonaws.com/fast-ai-imageclas/CUB_200_2011.tgz' --no-check-certificate\n",
    "!tar xopf CUB_200_2011.tgz\n",
    "!rm CUB_200_2011.tgz"
   ]
  },
  {
   "cell_type": "markdown",
   "metadata": {},
   "source": [
    "Generating a test video for our Panorama Test Utility.  We will use this video to test our Panorama application. To do this, we will need opencv. Run the cell below to install the appropriate packages if your kernel does already have them.\n",
    "\n",
    "The video `bird.mp4` will be created in `2_deployment` folder.  You can review the output there."
   ]
  },
  {
   "cell_type": "code",
   "execution_count": null,
   "metadata": {
    "scrolled": true
   },
   "outputs": [],
   "source": [
    "!pip install opencv-python\n",
    "!apt-get update\n",
    "!apt-get install ffmpeg libsm6 libxext6  -y"
   ]
  },
  {
   "cell_type": "code",
   "execution_count": null,
   "metadata": {},
   "outputs": [],
   "source": [
    "import cv2\n",
    "import glob\n",
    "import random\n",
    "\n",
    "img_array = []\n",
    "image_dir = 'CUB_200_2011/images'\n",
    "\n",
    "subset_data = [\"013.Bobolink\", \"017.Cardinal\", \n",
    "               \"035.Purple_Finch\", \"036.Northern_Flicker\",\n",
    "              \"047.American_Goldfinch\",\"068.Ruby_throated_Hummingbird\",\n",
    "               \"073.Blue_Jay\",\"087.Mallard\"]\n",
    "\n",
    "# create an array of available image files\n",
    "for sub_dir in os.listdir(image_dir):\n",
    "    if sub_dir in subset_data:\n",
    "\n",
    "        for filename in os.listdir(f'{image_dir}/{sub_dir}'):\n",
    "            img_array.append(f'{image_dir}/{sub_dir}/{filename}')\n",
    "            \n",
    "# all the images should be the same size, so grab teh image size from first image\n",
    "img = cv2.imread(img_array[0])\n",
    "height, width, layers = img.shape\n",
    "size = (width,height)\n",
    "\n",
    "output_path = '../2_deployment/bird.mp4'\n",
    "out = cv2.VideoWriter(output_path,cv2.VideoWriter_fourcc(*'MP4V'), 1, size)\n",
    "\n",
    "#random sample images and append as frames into the video\n",
    "for i in range(200):\n",
    "    rand_index = random.randint(0,len(img_array)-1)\n",
    "    img = cv2.imread(img_array[rand_index])\n",
    "    out.write(img)\n",
    "out.release()\n",
    "\n",
    "print(f'video generated at {output_path}')"
   ]
  },
  {
   "cell_type": "markdown",
   "metadata": {
    "jp-MarkdownHeadingCollapsed": true,
    "tags": []
   },
   "source": [
    "## Start A GroundTruth Labeling Workflow\n",
    "\n",
    "---\n",
    "We will create a GroundTruth labeling job. This involves several steps: collecting the images we want labeled, specifying the possible label categories, creating instructions, and writing a labeling job specification. "
   ]
  },
  {
   "cell_type": "markdown",
   "metadata": {},
   "source": [
    "---\n",
    "**Create and upload an input manifest file.** Each line in an input manifest file is an entry containing an object, or a reference to an object, to label. An entry can also contain labels from previous jobs and for some task types, additional information. [AWS Documentation](https://docs.aws.amazon.com/sagemaker/latest/dg/sms-input-data-input-manifest.html)\n",
    "\n",
    "If you do not want to go through the manual labeling process, the code below also generate a synthetic labelled output manifest file that is ready for training.  In that case, ** after you run the code below just **[skip to the next section](LambdaTrigger)**"
   ]
  },
  {
   "cell_type": "code",
   "execution_count": null,
   "metadata": {},
   "outputs": [],
   "source": [
    "# Copy the images to our local bucket.\n",
    "\n",
    "label_map = dict()\n",
    "for i in range(len(subset_data)):\n",
    "    label = subset_data[i].split('.')[-1]\n",
    "    label_map[label] = i\n",
    "        \n",
    "s3 = boto3.client('s3')\n",
    "\n",
    "input_manifest_name = 'input.manifest'\n",
    "output_manifest_name = 'output.manifest'\n",
    "\n",
    "# remove if file already exist\n",
    "if os.path.exists(input_manifest_name):\n",
    "    os.remove(input_manifest_name)\n",
    "    \n",
    "if os.path.exists(output_manifest_name):\n",
    "    os.remove(output_manifest_name)\n",
    "\n",
    "f = open(input_manifest_name, 'a')\n",
    "g = open(output_manifest_name, 'a')\n",
    "\n",
    "json_body = {'labels':[]}\n",
    "\n",
    "print('Processing......\\n')\n",
    "\n",
    "for raw_label in os.listdir(image_dir):\n",
    "    \n",
    "    if raw_label in subset_data:\n",
    "    \n",
    "        label_name = raw_label.split('.')[-1]\n",
    "\n",
    "        print(label_name, label_map[label_name])\n",
    "        json_body['labels'].append({\"label\": label_name})\n",
    "\n",
    "        for filename in os.listdir(f'{image_dir}/{raw_label}'):\n",
    "            if '.jpg' in filename:\n",
    "                key = f\"{base_job_prefix}/unlabeled/images/{filename}\"\n",
    "                s3.upload_file(f'{image_dir}/{raw_label}/{filename}', default_bucket, key)\n",
    "\n",
    "                img_path = f\"s3://{default_bucket}/{key}\"\n",
    "                f.write('{\"source-ref\": \"' + img_path + '\"}\\n')\n",
    "\n",
    "                #build output manifest, if you don't want to go through the label        \n",
    "                output_manifest = dict()\n",
    "\n",
    "                output_manifest['source-ref'] = img_path\n",
    "                output_manifest['label'] = label_map[label_name]\n",
    "                label_metadata = dict()\n",
    "                label_metadata['class-name'] = label_name\n",
    "                # these are just placeholders to mimic an actual manifest file\n",
    "                label_metadata['job-name'] = \"labeling-job/bird-image-classification-1634678978\"\n",
    "                label_metadata['type'] = \"groundtruth/image-classification\"\n",
    "                label_metadata['human-annotated'] = \"yes\"\n",
    "                label_metadata['creation-date'] = str(datetime.datetime.now().isoformat(timespec='microseconds'))\n",
    "\n",
    "                output_manifest['label-metadata'] = label_metadata\n",
    "\n",
    "                g.write(f\"{json.dumps(output_manifest)}\\n\")\n",
    "        \n",
    "        \n",
    "f.close()\n",
    "g.close()\n",
    "        \n",
    "        \n",
    "input_manifest_key = f\"{base_job_prefix}/unlabeled/manifest/{input_manifest_name}\"\n",
    "s3.upload_file(input_manifest_name, default_bucket, input_manifest_key)\n",
    "        \n",
    "s3_input_manifest = f\"s3://{default_bucket}/{input_manifest_key}\"\n",
    "\n",
    "print(\"\\nInput manifest file location:\")\n",
    "print(s3_input_manifest)\n",
    "\n",
    "output_manifest_key = f\"{base_job_prefix}/pipeline/manifest/{output_manifest_name}\"\n",
    "s3.upload_file(output_manifest_name, default_bucket, output_manifest_key)\n",
    "        \n",
    "s3_output_manifest = f\"s3://{default_bucket}/{output_manifest_key}\"\n",
    "\n",
    "print(\"\\nSynthetic output manifest file location: \")\n",
    "print(s3_output_manifest)"
   ]
  },
  {
   "cell_type": "markdown",
   "metadata": {},
   "source": [
    "remove data to save disc space"
   ]
  },
  {
   "cell_type": "code",
   "execution_count": null,
   "metadata": {},
   "outputs": [],
   "source": [
    "!rm -rf ./CUB_200_2011\n",
    "!rm -f attributes.txt"
   ]
  },
  {
   "cell_type": "markdown",
   "metadata": {},
   "source": [
    "---\n",
    "**Specify the categories with a `label.json` file**  To run an image classification labeling job, you need to decide on a set of classes the annotators can choose from. \n",
    "In our case, this list is `[\"Bobolink\", \"Cardinal\", \"Purple Finch\"]`. In your own job you can choose any list of up to 10 classes. We recommend the classes to be as unambiguous and concrete as possible. The categories should be mutually exclusive, with only one correct label per image. In addition, be careful to make the task as *objective* as possible, unless of course your intention is to obtain subjective labels."
   ]
  },
  {
   "cell_type": "code",
   "execution_count": null,
   "metadata": {},
   "outputs": [],
   "source": [
    "pp.pprint(json_body)\n",
    "\n",
    "class_file_name = \"class_labels.json\"\n",
    "with open(class_file_name, \"w\") as f:\n",
    "    json.dump(json_body, f)\n",
    "\n",
    "classes_key = f\"{base_job_prefix}/unlabeled/classes/{class_file_name}\"\n",
    "s3.upload_file(class_file_name, default_bucket, classes_key)\n",
    "\n",
    "s3_classes = f\"s3://{default_bucket}/{classes_key}\"\n",
    "\n",
    "s3_classes"
   ]
  },
  {
   "cell_type": "markdown",
   "metadata": {},
   "source": [
    "**Create the instruction template** Part or all of your images will be annotated by human annotators. It is **essential** to provide good instructions that help the annotators give you the annotations you want. he labeling instruction template"
   ]
  },
  {
   "cell_type": "code",
   "execution_count": null,
   "metadata": {},
   "outputs": [],
   "source": [
    "def make_template(test_template=False, save_fname=\"instructions.template\"):\n",
    "    template = r\"\"\"<script src=\"https://assets.crowd.aws/crowd-html-elements.js\"></script>\n",
    "        <crowd-form>\n",
    "          <crowd-image-classifier\n",
    "            name=\"crowd-image-classifier\"\n",
    "            src=\"{{ task.input.taskObject | grant_read_access }}\"\n",
    "            header=\"please classify\"\n",
    "            categories=\"{{ task.input.labels | to_json | escape }}\"\n",
    "          >\n",
    "            <full-instructions header=\"Image classification instructions\">\n",
    "              <ol><li><strong>Read</strong> the task carefully and inspect the image.</li>\n",
    "              <li><strong>Read</strong> the options and review the examples provided to understand more about the labels.</li>\n",
    "              <li><strong>Choose</strong> the appropriate label that best suits the image.</li></ol>\n",
    "            </full-instructions>\n",
    "            <short-instructions>\n",
    "              <p>Dear Annotator, please tell me whether what you can see in the image. Thank you!</p>\n",
    "            </short-instructions>\n",
    "          </crowd-image-classifier>\n",
    "        </crowd-form>\"\"\"\n",
    "\n",
    "    with open(save_fname, \"w\") as f:\n",
    "        f.write(template)\n",
    "    if test_template is False:\n",
    "        print(template)\n",
    "\n",
    "template_name = \"instructions.template\"\n",
    "# make_template(test_template=True, save_fname=\"instructions.html\")\n",
    "\n",
    "make_template(test_template=False, save_fname=template_name)\n",
    "templates_key = f\"{base_job_prefix}/unlabeled/templates/{template_name}\"\n",
    "s3.upload_file(template_name, default_bucket, templates_key)\n",
    "\n",
    "s3_templates = f\"s3://{default_bucket}/{templates_key}\"\n",
    "print(f\"S3 url: {s3_templates}\")"
   ]
  },
  {
   "cell_type": "markdown",
   "metadata": {},
   "source": [
    "---\n",
    "Assign key labeling job resources (4 components)\n",
    "\n",
    "**Assign pre-built resources in the labeling job** There are the ARNs for the four key components of the labeling job: 1) the workteam, 2) the annotation consolidation Lambda function, 3) the pre-labeling task Lambda function, and 4) the machine learning algorithm to perform auto-annotation.\n",
    "\n",
    "<span style=\"color:red\">**Note: put your own private workteam arn here or uncomment the code and use mechanical turk.**</span>"
   ]
  },
  {
   "cell_type": "code",
   "execution_count": null,
   "metadata": {},
   "outputs": [],
   "source": [
    "# Specify ARNs for resources needed to run an image classification job.\n",
    "ac_arn_map = {\n",
    "    \"us-west-2\": \"081040173940\",\n",
    "    \"us-east-1\": \"432418664414\",\n",
    "    \"us-east-2\": \"266458841044\",\n",
    "    \"eu-west-1\": \"568282634449\",\n",
    "    \"ap-northeast-1\": \"477331159723\",\n",
    "}\n",
    "\n",
    "prehuman_arn = \"arn:aws:lambda:{}:{}:function:PRE-ImageMultiClass\".format(\n",
    "    region, ac_arn_map[region]\n",
    ")\n",
    "acs_arn = \"arn:aws:lambda:{}:{}:function:ACS-ImageMultiClass\".format(region, ac_arn_map[region])\n",
    "\n",
    "labeling_algorithm_specification_arn = \"arn:aws:sagemaker:{}:027400017018:labeling-job-algorithm-specification/image-classification\".format(\n",
    "    region\n",
    ")\n",
    "\n",
    "#Update this code block if you want to use your own private workforce.\n",
    "PRIVATE_WORKFORCE = False\n",
    "\n",
    "public_workteam_arn = \"arn:aws:sagemaker:{}:394669845002:workteam/public-crowd/default\".format(region)\n",
    "\n",
    "# private_workteam_arn = \"<REPLACE WITH YOUR OWN PRIVATE TEAM ARN>\""
   ]
  },
  {
   "cell_type": "markdown",
   "metadata": {},
   "source": [
    "---\n",
    "Submit the Ground Truth job request"
   ]
  },
  {
   "cell_type": "code",
   "execution_count": null,
   "metadata": {},
   "outputs": [],
   "source": [
    "job_name = \"bird-image-classification-\" + str(int(time.time())).split('.')[0]\n",
    "\n",
    "# define human task configuration\n",
    "human_task_config = {\n",
    "    \"AnnotationConsolidationConfig\": {\n",
    "        \"AnnotationConsolidationLambdaArn\": acs_arn,\n",
    "    },\n",
    "    \"PreHumanTaskLambdaArn\": prehuman_arn,\n",
    "    \"MaxConcurrentTaskCount\": 200,  # 200 images will be sent at a time to the workteam.\n",
    "    \"NumberOfHumanWorkersPerDataObject\": 3,  # 3 separate workers will be required to label each image.\n",
    "    \"TaskAvailabilityLifetimeInSeconds\": 21600,  # Your worteam has 6 hours to complete all pending tasks.\n",
    "    \"TaskDescription\": 'Carefully inspect the image and classify it by selecting one label from the categories provided.',\n",
    "    \"TaskKeywords\": [\"image\", \"classification\", \"birds\"],\n",
    "    \"TaskTimeLimitInSeconds\": 300,  # Each image must be labeled within 5 minutes.\n",
    "    \"TaskTitle\": 'What bird is this',\n",
    "    \"UiConfig\": {\n",
    "        \"UiTemplateS3Uri\": s3_templates,\n",
    "    },\n",
    "}\n",
    "\n",
    "# Using public or private workforce.  Public workforce require price info\n",
    "if not PRIVATE_WORKFORCE:\n",
    "    human_task_config[\"PublicWorkforceTaskPrice\"] = {\n",
    "        \"AmountInUsd\": {\n",
    "            \"Dollars\": 0,\n",
    "            \"Cents\": 1,\n",
    "            \"TenthFractionsOfACent\": 2,\n",
    "        }\n",
    "    }\n",
    "    human_task_config[\"WorkteamArn\"] = public_workteam_arn\n",
    "else:\n",
    "    human_task_config[\"WorkteamArn\"] = private_workteam_arn\n",
    "    \n",
    "ground_truth_request = {\n",
    "    \"InputConfig\": {\n",
    "        \"DataSource\": {\n",
    "            \"S3DataSource\": {\n",
    "                \"ManifestS3Uri\": s3_input_manifest\n",
    "            }\n",
    "        },\n",
    "        \"DataAttributes\": {\n",
    "            \"ContentClassifiers\": [\"FreeOfPersonallyIdentifiableInformation\", \"FreeOfAdultContent\"]\n",
    "        },\n",
    "    },\n",
    "    \"OutputConfig\": {\n",
    "        \"S3OutputPath\": f's3://{default_bucket}/{base_job_prefix}/labeled',\n",
    "    },\n",
    "    \"HumanTaskConfig\": human_task_config,\n",
    "    \"LabelingJobName\": job_name,\n",
    "    \"RoleArn\": role,\n",
    "    \"LabelAttributeName\": \"category\",\n",
    "    \"LabelCategoryConfigS3Uri\": s3_classes,\n",
    "}\n",
    "\n",
    "sagemaker_client = boto3.client(\"sagemaker\")\n",
    "sagemaker_client.create_labeling_job(**ground_truth_request)"
   ]
  },
  {
   "cell_type": "markdown",
   "metadata": {},
   "source": [
    "---\n",
    "**Monitoring the labelling job status**"
   ]
  },
  {
   "cell_type": "code",
   "execution_count": null,
   "metadata": {},
   "outputs": [],
   "source": [
    "# job_name = 'bird-image-classification-1647438119'\n",
    "# sagemaker_client = boto3.client(\"sagemaker\")\n",
    "sagemaker_client.describe_labeling_job(LabelingJobName=job_name)"
   ]
  },
  {
   "cell_type": "markdown",
   "metadata": {},
   "source": [
    "---\n",
    "**Analyze Ground Truth labeling job results**\n",
    "\n",
    "After the job finishes running (**make sure `sagemaker_client.describe_labeling_job` shows the job is complete!**), it is time to analyze the results. In this section, we will gain additional insights into the results, all contained in the `output manifest`. You can find the location of the output manifest under `AWS Console > SageMaker > Labeling Jobs > [name of your job]`. We will obtain it programmatically in the cell below."
   ]
  },
  {
   "cell_type": "code",
   "execution_count": null,
   "metadata": {},
   "outputs": [],
   "source": [
    "# Load the output manifest's annotations.\n",
    "output_manifest = f\"s3://{default_bucket}/{base_job_prefix}/labeled/{job_name}/manifests/output/output.manifest\"\n",
    "\n",
    "!aws s3 cp {output_manifest} 'output.manifest'\n",
    "\n",
    "with open(\"output.manifest\", \"r\") as f:\n",
    "    output = [json.loads(line.strip()) for line in f.readlines()]\n",
    "\n",
    "# Create data arrays.\n",
    "img_uris = [None] * len(output)\n",
    "confidences = np.zeros(len(output))\n",
    "groundtruth_labels = [None] * len(output)\n",
    "human = np.zeros(len(output))\n",
    "\n",
    "# Find the job name the manifest corresponds to.\n",
    "keys = list(output[0].keys())\n",
    "metakey = keys[np.where([(\"-metadata\" in k) for k in keys])[0][0]]\n",
    "jobname = metakey[:-9]\n",
    "\n",
    "# Extract the data.\n",
    "for datum_id, datum in enumerate(output):\n",
    "    img_uris[datum_id] = datum[\"source-ref\"]\n",
    "    groundtruth_labels[datum_id] = str(datum[metakey][\"class-name\"])\n",
    "    confidences[datum_id] = datum[metakey][\"confidence\"]\n",
    "    human[datum_id] = int(datum[metakey][\"human-annotated\"] == \"yes\")\n",
    "groundtruth_labels = np.array(groundtruth_labels)"
   ]
  },
  {
   "cell_type": "code",
   "execution_count": null,
   "metadata": {},
   "outputs": [],
   "source": [
    "# Compute the number of annotations in each class.\n",
    "n_classes = len(set(groundtruth_labels))\n",
    "sorted_clnames, class_sizes = zip(*Counter(groundtruth_labels).most_common(n_classes))\n",
    "\n",
    "# Find ids of human-annotated images.\n",
    "human_sizes = [human[groundtruth_labels == clname].sum() for clname in sorted_clnames]\n",
    "class_sizes = np.array(class_sizes)\n",
    "human_sizes = np.array(human_sizes)\n",
    "\n",
    "plt.figure(figsize=(9, 3), facecolor=\"white\", dpi=100)\n",
    "plt.title(\"Annotation histogram\")\n",
    "plt.bar(range(n_classes), human_sizes, color=\"gray\", hatch=\"/\", edgecolor=\"k\", label=\"human\")\n",
    "plt.bar(\n",
    "    range(n_classes),\n",
    "    class_sizes - human_sizes,\n",
    "    bottom=human_sizes,\n",
    "    color=\"gray\",\n",
    "    edgecolor=\"k\",\n",
    "    label=\"machine\",\n",
    ")\n",
    "plt.xticks(range(n_classes), sorted_clnames, rotation=90)\n",
    "plt.ylabel(\"Annotation Count\")\n",
    "plt.legend()\n",
    "plt.show()"
   ]
  },
  {
   "cell_type": "markdown",
   "metadata": {},
   "source": [
    "## Pipeline Automation with S3 Lambda\n",
    "\n",
    "---\n",
    "There are several popular ways to trigger a SageMaker pipeline\n",
    "\n",
    "1. Use a lambda triggered by S3 event, where we monitor a S3 bucket for a new lablled manifest file. We demonstrate an example of that in [week 4 MLOps training](https://master.d2g2roqxvwdnfj.amplifyapp.com/orchestration.html)\n",
    "\n",
    "2. Use Source control. CodeCommit and especially [third-party source controls](https://aws.amazon.com/blogs/machine-learning/create-amazon-sagemaker-projects-using-third-party-source-control-and-jenkins/). \n",
    "\n",
    "3. Use EventBridge. Essentially any events support by EventBridge event bus (AWS and third party) [AWS Documentation](https://docs.aws.amazon.com/sagemaker/latest/dg/pipeline-eventbridge.html)\n",
    "\n",
    "4. Last but not least, you can trigger an existing pipeline from the SageMaker Studio UI."
   ]
  },
  {
   "cell_type": "code",
   "execution_count": null,
   "metadata": {},
   "outputs": [],
   "source": [
    "# image location\n",
    "s3_input_data = f\"s3://{default_bucket}/{base_job_prefix}/unlabeled/images\"\n",
    "# labelled manifest location\n",
    "s3_input_manifest = f\"s3://{default_bucket}/{base_job_prefix}/pipeline/manifest\""
   ]
  },
  {
   "cell_type": "markdown",
   "metadata": {
    "tags": []
   },
   "source": [
    "## Build a Training Pipeline\n",
    "---\n",
    "\n",
    "The pipelines configured includes python package under SageMaker Pipelines together with the defined code for preprocessing, training, and model evaluation to automate the model training. It is easy to use such that you can simple drop in whatever input data for image classification you want and have it train a model automatically."
   ]
  },
  {
   "cell_type": "markdown",
   "metadata": {
    "jp-MarkdownHeadingCollapsed": true,
    "tags": []
   },
   "source": [
    "### Preprocessing Script\n",
    "\n",
    "---\n",
    "Here is teh preprocessing script. we are using script processor from sageMaker processing to split the data into train, valid, and test channels, and then build the TFRecord file for pipe mode training."
   ]
  },
  {
   "cell_type": "code",
   "execution_count": null,
   "metadata": {},
   "outputs": [],
   "source": [
    "!pygmentize 'pipeline/preprocess.py'"
   ]
  },
  {
   "cell_type": "markdown",
   "metadata": {},
   "source": [
    "#### Generate TFRecord for pipe mode\n",
    "\n",
    "---\n",
    "TFRecord is TensorFlow's custom data format that uses Protocol Buffers to serialize/deserialize the data and store them in bytes. It takes less space to hold and transfer an ample amount of data, and it is also cross-platform supported with libraries across all program languages.\n",
    "\n",
    "With TFRecord data format, the user can also uncover the Pipe Mode training on SageMkaer.  It is an input mechanism that streams the data to the training conatiners, which allows data to be downloaded from S3 to the container while training is running. For larger datasets, this dramatically improves the time to start training, as the data does not need to be first downloaded to the container. To learn more, please reference [AWS Documentation](https://docs.aws.amazon.com/sagemaker/latest/dg/your-algorithms-training-algo.html#your-algorithms-training-algo-running-container-trainingdata)"
   ]
  },
  {
   "cell_type": "markdown",
   "metadata": {},
   "source": [
    "#### Use Fast File Mode\n",
    "\n",
    "---\n",
    "Newly release in Oct, 2021.  Amazon SageMaker now supports Fast File Mode for accessing data in training jobs. This enables high performance data access by streaming directly from Amazon S3 with no code changes from the existing File Mode. [AWS Documentation](https://aws.amazon.com/about-aws/whats-new/2021/10/amazon-sagemaker-fast-file-mode/)"
   ]
  },
  {
   "cell_type": "markdown",
   "metadata": {
    "jp-MarkdownHeadingCollapsed": true,
    "tags": []
   },
   "source": [
    "### Training Script\n",
    "\n",
    "---\n",
    "We are training a Tensorflow(TF) 2.x model for image classification.  This is a transfer learning example using Keras MobileNetV2 model.  We will be bring in our own script to training on SageMaker standard TF containers.  Couple things to highlight about this custom script:\n",
    "\n",
    "1. the training uses pipe mode to stream data directly from Amazon S3 allowing faster start to model training.\n",
    "\n",
    "2. We provide an distributed training example using xxxxx to boost training effeciency for large model and datasets, and cut down on training time.\n",
    "\n",
    "3. Sagemaker debugger profiler and rules alerts are attached to the training to monitor the training for abnormal behavior"
   ]
  },
  {
   "cell_type": "code",
   "execution_count": null,
   "metadata": {},
   "outputs": [],
   "source": [
    "!pygmentize 'pipeline/code/train_debugger.py'"
   ]
  },
  {
   "cell_type": "markdown",
   "metadata": {},
   "source": [
    "#### SageMaker debugger\n",
    "\n",
    "---\n",
    "[Amazon SageMaker Debugger](https://docs.aws.amazon.com/sagemaker/latest/dg/train-debugger.html) debugs, monitors and profiles training jobs in real time thereby helping with detecting non-converging conditions, optimizing resource utilization by eliminating bottlenecks, improving training time and reducing costs of your machine learning models.\n",
    "\n",
    "<a id ='debugger'> </a>\n",
    "\n",
    "1. **Profile config** - configure how to collect system metrics and framework metrics from your training job and save into your secured S3 bucket URI or local machine.\n",
    "\n",
    "    1. [Monitoring hardware system resource utilization](https://docs.aws.amazon.com/sagemaker/latest/dg/debugger-configure-system-monitoring.html)\n",
    "  \n",
    "    2. [Framework profiling](https://docs.aws.amazon.com/sagemaker/latest/dg/debugger-configure-framework-profiling.html)\n",
    "  \n",
    "2. **Debugger hook config** - configure how to collect output tensors from your training job and save into your secured S3 bucket URI or local machine.  For more info, refer [here](https://docs.aws.amazon.com/sagemaker/latest/dg/debugger-configure-hook.html).\n",
    "\n",
    "3. **Rules** - configure this parameter to enable Debugger built-in rules that you want to run in parallel. The rules automatically analyze your training job and find training issues. The ProfilerReport rule saves the Debugger profiling reports in your secured S3 bucket URI.  For more info, refer [here](https://docs.aws.amazon.com/sagemaker/latest/dg/use-debugger-built-in-rules.html).\n",
    "\n",
    "![Debugger](statics/debugger_access.png)"
   ]
  },
  {
   "cell_type": "markdown",
   "metadata": {
    "jp-MarkdownHeadingCollapsed": true,
    "tags": []
   },
   "source": [
    "### Evaluation Script\n",
    "\n",
    "---\n",
    "Evaluation is also using script processor from SageMaker processing with the same container as preprocessing.  It loads the test dataset and the model to calculate model metrics like Accuracy, Precision, Recall, F1, and confussion matrix.  Only model with accuracy >= 80% will be registered in Model Registry.\n",
    "\n",
    "If model passes the evaluation criteria, all the metrics will be captured in Model Registry for manual approvel to deploy. The models are also automatic are automatically versioned with full lineage history, and you can compare different version of the models side-by-side as shown in image below:\n",
    "\n",
    "![Model Registry](statics/model_registry.png)"
   ]
  },
  {
   "cell_type": "code",
   "execution_count": null,
   "metadata": {},
   "outputs": [],
   "source": [
    "!pygmentize 'pipeline/evaluation.py'"
   ]
  },
  {
   "cell_type": "markdown",
   "metadata": {
    "jp-MarkdownHeadingCollapsed": true,
    "tags": []
   },
   "source": [
    "### Pipeline Code\n",
    "\n",
    "---\n",
    "SageMaker Pipelines is generating a directed acyclic graph (DAG) in the form of a JSON pipeline definition.  The provided python code using SageMaker Python SDK is an easy way to generate the JSON pipleine definition for you.  In general, the code goes through and define each step of the pipeline, feed output from one step to the input for another.  In the end, all the parameters and steps are chained together to formulate the pipeline.\n",
    "\n",
    "Couple new features to highlight:\n",
    "\n",
    "1. **Caching Pipeline Steps** SageMaker will attempt to find a previous execution of a step that was called with the same arguments in order to save time on repeated pipeline runs. [AWS Documenation](https://docs.aws.amazon.com/sagemaker/latest/dg/pipelines-caching.html)\n",
    "\n",
    "2. **Retry Policy** is a recent released feature that help you automatically retry pipeline steps after an error occurs. [AWS Documentation](https://docs.aws.amazon.com/sagemaker/latest/dg/pipelines-retry-policy.html)\n",
    "\n",
    "3. **Tuning Step** is a new pipeline step that allows you to run tuning jobs in your pipeline across ranges of hyperparameters and pickout the best model combination to deploy. We provide an example in this workshop. [AWS Documentation](https://docs.aws.amazon.com/sagemaker/latest/dg/build-and-manage-steps.html)"
   ]
  },
  {
   "cell_type": "code",
   "execution_count": null,
   "metadata": {},
   "outputs": [],
   "source": [
    "!pygmentize 'pipeline/pipeline_tuning.py'"
   ]
  },
  {
   "cell_type": "markdown",
   "metadata": {},
   "source": [
    "### Trigger the Pipeline\n",
    "---\n",
    "Here is how you create/update a pipeline in code\n",
    "\n",
    "Uncomment the code to try the pipeline with the tuning step.  Note: SageMaker debugger is not integrated with Tuning jobs (HPO). Therefore when you run this pipeline, debugger will not work. (Please reachout to the account team for a feature request if this is important to you)"
   ]
  },
  {
   "cell_type": "code",
   "execution_count": null,
   "metadata": {},
   "outputs": [],
   "source": [
    "# from pipeline.pipeline import get_pipeline\n",
    "from pipeline.pipeline_tuning import get_pipeline\n",
    "\n",
    "model_package_group_name = f\"{base_job_prefix}ModelGroup\"  # Model name in model registry\n",
    "pipeline_name = f\"{base_job_prefix}Pipeline\"  # SageMaker Pipeline name\n",
    "\n",
    "pipeline = get_pipeline(\n",
    "    region=region,\n",
    "    role=role,\n",
    "    default_bucket=default_bucket,\n",
    "    model_package_group_name=model_package_group_name,\n",
    "    pipeline_name=pipeline_name,\n",
    "    base_job_prefix=base_job_prefix\n",
    ")"
   ]
  },
  {
   "cell_type": "code",
   "execution_count": null,
   "metadata": {},
   "outputs": [],
   "source": [
    "pipeline.upsert(role_arn=role)"
   ]
  },
  {
   "cell_type": "code",
   "execution_count": null,
   "metadata": {},
   "outputs": [],
   "source": [
    "execution = pipeline.start(\n",
    "    parameters=dict(\n",
    "        InputDataUrl=s3_input_data, # loaction of the raw data\n",
    "        InputManifestUrl=s3_input_manifest,\n",
    "        ProcessingInstanceCount=1,\n",
    "#         ProcessingInstanceType=\"ml.m5.xlarge\",\n",
    "#         TrainingInstanceCount=1,\n",
    "#         TrainingInstanceType=\"ml.p3.2xlarge\",\n",
    "        ModelApprovalStatus=\"PendingManualApproval\"\n",
    "    )\n",
    ")"
   ]
  },
  {
   "cell_type": "markdown",
   "metadata": {},
   "source": [
    "## Manual approval for deployment\n",
    "\n",
    "---\n",
    "After you create a model version, you typically want to evaluate its performance before you deploy it. So the pipeline default the approval status to `PendingManualApproval`. You can manually update or update using API to change the status to Approved or Rejected.  Here is how you mnaully update from SageMaker studio UI:\n",
    "\n",
    "![Manual Approval](statics/manual_approval.png)"
   ]
  },
  {
   "cell_type": "markdown",
   "metadata": {},
   "source": [
    "Amazon EventBridge monitors status change events in Amazon SageMaker. EventBridge enables you to automate SageMaker and respond automatically to events such as a training job status change, endpoint status change, or **Model package state change**.\n",
    "\n",
    "Please reference [AWS Documentation](https://docs.aws.amazon.com/sagemaker/latest/dg/automating-sagemaker-with-eventbridge.html#eventbridge-model-package) documentation for the entire event of Model package state change.\n",
    "\n",
    "To automate the deployment process, You use event bridge to Invoke a **deployment Lambda function** that checks the `ModelApprovalStatus` attribute in the event. If teh status is **Approved** the Lambda will continue with the edge deployement."
   ]
  },
  {
   "cell_type": "markdown",
   "metadata": {},
   "source": [
    "## Edge Deployment W/ AWS Panorama\n",
    "\n",
    "---\n",
    "AWS Panorama is a machine learning appliance and SDK, which enables you to add computer vision (CV) to your on-premises cameras or on new Panorama enabled cameras. AWS Panorama gives you the ability to make real-time decisions to improve your operations, by giving you compute power at the edge.\n",
    "    \n",
    "To try out the full Panorama experience, you need a Camera that support RTSP stream and Panorama appliance to deployment your model and application setup on the same local network. **Knowing that not everyone will have access to the equipment, we will talk about the setup and deployment experience, and practice developing Panorama application in the Panorama test utility.**"
   ]
  },
  {
   "cell_type": "markdown",
   "metadata": {},
   "source": [
    "### Setup device\n",
    "\n",
    "---\n",
    "To get started using your AWS Panorama Appliance, register it in the AWS Panorama console and update its software. During the setup process, you create an appliance resource in AWS Panorama that represents the physical appliance, and copy files to the appliance with a USB drive. The appliance uses these certificates and configuration files to connect to the AWS Panorama service. Then you use the AWS Panorama console to update the appliance's software and register cameras.\n",
    "\n",
    "[AWS Documentation](https://docs.aws.amazon.com/panorama/latest/dev/gettingstarted-setup.html)"
   ]
  },
  {
   "cell_type": "markdown",
   "metadata": {},
   "source": [
    "### Deploy applications and models\n",
    "\n",
    "---\n",
    "[AWS Documentation](https://docs.aws.amazon.com/panorama/latest/dev/gettingstarted-deploy.html)"
   ]
  },
  {
   "cell_type": "markdown",
   "metadata": {},
   "source": [
    "### Setup Test Utility\n",
    "\n",
    "Panorama Test Utility is a set of python libraries and commandline commands, which allows you to test-run Panorama applications without Panorama appliance device. With Test Utility, you can start running sample applications and developing your own Panorama applications before preparing real Panorama appliance. Sample applications in this repository also use Test Utility.\n",
    "\n",
    "For more about the Test Utility and its current capabilities, please refer to [Introducing AWS Panorama Test Utility document](https://github.com/aws-samples/aws-panorama-samples/blob/main/docs/AboutTestUtility.md).\n",
    "\n",
    "To set up your environment for Test Utility, please refer to **[Test Utility environment setup](https://github.com/aws-samples/aws-panorama-samples/blob/main/docs/EnvironmentSetup.md)**."
   ]
  },
  {
   "attachments": {
    "test_util_folder.png": {
     "image/png": "[encoded data removed]"
    }
   },
   "cell_type": "markdown",
   "metadata": {},
   "source": [
    "### Run Panorama Application\n",
    "\n",
    "Test Utility enviornment setup will spin up an ARM64 EC2 instance with Jupyter environment pre-installed.  To run our bird classification application, Please package all the files in 2_deployment directory using `tar -czvf bird-demo.tar.gz ../2_deployment` command, then upload and unpack in `aws-panorama-samples/samples` directory of the EC2 instance. Your test utility folder structure should look something like this:\n",
    "\n",
    "![test_util_folder.png](attachment:test_util_folder.png)\n",
    "\n",
    "Run the `bird_demo.ipynb` notebook to test your application code and model.\n",
    "\n",
    "![Panorama Test Utility](statics/panorama_test.png)"
   ]
  },
  {
   "cell_type": "markdown",
   "metadata": {},
   "source": [
    "## Clean Up\n",
    "\n",
    "---\n",
    "Please do not forget to clean up after you are down with this lab.\n",
    "\n",
    "1) You can manually remove the label jobs in the SageMaker Console.\n",
    "\n",
    "2) To clean up your pipelines and model groups using the clean up code below.\n",
    "\n",
    "3) Goto Cloudformation and delete stack to remove your Panorama Test Utility setup."
   ]
  },
  {
   "cell_type": "code",
   "execution_count": null,
   "metadata": {},
   "outputs": [],
   "source": [
    "def delete_model_package_group(sm_client, package_group_name):\n",
    "    try:\n",
    "        model_versions = sm_client.list_model_packages(ModelPackageGroupName=package_group_name)\n",
    "\n",
    "    except Exception as e:\n",
    "        print(\"{} \\n\".format(e))\n",
    "        return\n",
    "\n",
    "    for model_version in model_versions[\"ModelPackageSummaryList\"]:\n",
    "        try:\n",
    "            sm_client.delete_model_package(ModelPackageName=model_version[\"ModelPackageArn\"])\n",
    "        except Exception as e:\n",
    "            print(\"{} \\n\".format(e))\n",
    "        time.sleep(0.5)  # Ensure requests aren't throttled\n",
    "\n",
    "    try:\n",
    "        sm_client.delete_model_package_group(ModelPackageGroupName=package_group_name)\n",
    "        print(\"{} model package group deleted\".format(package_group_name))\n",
    "    except Exception as e:\n",
    "        print(\"{} \\n\".format(e))\n",
    "    return\n",
    "\n",
    "\n",
    "def delete_sagemaker_pipeline(sm_client, pipeline_name):\n",
    "    try:\n",
    "        sm_client.delete_pipeline(\n",
    "            PipelineName=pipeline_name,\n",
    "        )\n",
    "        print(\"{} pipeline deleted\".format(pipeline_name))\n",
    "    except Exception as e:\n",
    "        print(\"{} \\n\".format(e))\n",
    "        return\n",
    "    \n",
    "def delete_sagemaker_project(sm_client, project_name):\n",
    "    try:\n",
    "        sm_client.delete_project(\n",
    "            ProjectName=project_name,\n",
    "        )\n",
    "        print(\"{} project deleted\".format(project_name))\n",
    "    except Exception as e:\n",
    "        print(\"{} \\n\".format(e))\n",
    "        return"
   ]
  },
  {
   "cell_type": "code",
   "execution_count": null,
   "metadata": {},
   "outputs": [],
   "source": [
    "import boto3\n",
    "import time\n",
    "\n",
    "client = boto3.client(\"sagemaker\")\n",
    "\n",
    "delete_model_package_group(client, model_package_group_name)\n",
    "delete_sagemaker_pipeline(client, pipeline_name)"
   ]
  }
 ],
 "metadata": {
  "instance_type": "ml.t3.medium",
  "kernelspec": {
   "display_name": "Python 3 (Data Science)",
   "language": "python",
   "name": "python3__SAGEMAKER_INTERNAL__arn:aws:sagemaker:us-west-2:236514542706:image/datascience-1.0"
  },
  "language_info": {
   "codemirror_mode": {
    "name": "ipython",
    "version": 3
   },
   "file_extension": ".py",
   "mimetype": "text/x-python",
   "name": "python",
   "nbconvert_exporter": "python",
   "pygments_lexer": "ipython3",
   "version": "3.7.10"
  }
 },
 "nbformat": 4,
 "nbformat_minor": 4
}
