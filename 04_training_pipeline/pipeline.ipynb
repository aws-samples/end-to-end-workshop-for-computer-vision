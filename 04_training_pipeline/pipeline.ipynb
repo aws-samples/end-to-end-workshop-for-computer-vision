{
 "cells": [
  {
   "cell_type": "markdown",
   "source": [
    "# How to build an CV Training Pipeline using SageMaker Pipeline\n",
    "\n",
    "1. [Introduction](#Introduction)\n",
    "2. [Prerequisites](#Prerequisites)\n",
    "3. [Setup](#Setup)\n",
    "4. [Dataset](#Dataset)\n",
    "5. [Build SageMaker Pipeline](#Build-SageMaker-Pipeline)\n",
    "    1. [Bring Your Own Container (BYOC)](#Bring-Your-Own-Container-(BYOC))\n",
    "    2. [Set Pipeline input parameters](#Set-Pipeline-input-parameters)\n",
    "    3. [Define Cache Configuration](#Define-Cache-Configuration)\n",
    "    4. [Preprocess data step](#Preprocess-data-step)\n",
    "    5. [Training step](#Training-step)\n",
    "    6. [Model evaluation step](#Model-evaluation-step)\n",
    "    7. [Register model step](#Register-model-step)\n",
    "    8. [Accuracy condition step](#Accuracy-condition-step)\n",
    "    9. [Pipeline Creation](#Pipeline-Creation)\n",
    "    10. [Submit and trig pipeline](#Submit-and-trig-pipeline)\n",
    "    11. [Analyzing Results](#Analyzing-Results)\n",
    "6. [Execute same pipeline in one continuous script](#Execute-same-pipeline-in-one-continuous-script)\n",
    "7. [Build Custom Project Templates (Optional)](#Build-Custom-Project-Templates-(Optional))\n",
    "    1. [Setup Service Catalog Portfolio](#Setup-Service-Catalog-Portfolio)\n",
    "7. [Clean Up](#Clean-up)"
   ],
   "metadata": {}
  },
  {
   "cell_type": "markdown",
   "source": [
    "# Introduction\r\n",
    "\r\n",
    "This notebook demonstrate how to build a reusable computer vision (CV) pattern using **SageMaker Pipeline**. This particular pattern goes through preprocessing, training, and evaluating steps for 2 different training jobs:1) Spot training and 2) On Demand training.  If the accuracy meets certain requirements, the models are then registered with SageMaker Model Registry.\r\n",
    "\r\n",
    "We have also tagged the training workloads: `TrainingType: Spot or OnDemand`.  If you are interested and have permission to access billing of your AWS account, you the can see the cost savings from spot training from the side-by-side comparison. To enable custom cost allocation tags, please follow this [AWS documentation](https://docs.aws.amazon.com/awsaccountbilling/latest/aboutv2/activating-tags.html).  It takes 12-48 hrs for the new tag to show in your cost explore.\r\n",
    "\r\n",
    "![Spot Training](statics/cost-explore.png)\r\n",
    "\r\n",
    "SageMaker pipelines works on the concept of steps. The order steps are executed in is inferred from the dependencies each step have. If a step has a dependency on the output from a previous step, it's not executed until after that step has completed successfully. This also allows SageMaker to create a **Direct Acyclic Graph, DAG,** that can be visuallized in Amazon SageMaker Studio (see diagram below). The DAG can be used to track pipeline executions, inputs/outputs and metrics, giving user the full lineage of the model creation.\r\n",
    "\r\n",
    "![Training Pipeline](statics/cv-training-pipeline-zoomed.png)\r\n",
    "\r\n",
    "** Note: This Notebook was tested on Data Science Kernel in SageMaker Studio**"
   ],
   "metadata": {}
  },
  {
   "cell_type": "markdown",
   "source": [
    "## Prerequisites\n",
    "\n",
    "To run this notebook, you can simply execute each cell in order. To understand what's happening, you'll need:\n",
    "\n",
    "- Access to the SageMaker default S3 bucket\n",
    "- Access to Elastic Container Registry (ECR)\n",
    "- For the optional portion of this lab, you will need access to CloudFormation, Service Catalog, and Cost Explorer\n",
    "- Familiarity with Training on Amazon SageMaker\n",
    "- Familiarity with Python\n",
    "- Familiarity with AWS S3\n",
    "- Basic understanding of CloudFormaton and concept of deploy infra as code\n",
    "- Basic understanding of tagging and cost governance\n",
    "- Basic familiarity with AWS Command Line Interface (CLI) -- ideally, you should have it set up with credentials to access the AWS account you're running this notebook from.\n",
    "- SageMaker Studio is preferred for the full UI integration"
   ],
   "metadata": {}
  },
  {
   "cell_type": "markdown",
   "source": [
    "## Setup\n",
    "\n",
    "Here we define the sagemaker session, default bucket, job prefixes, pipeline and model group names."
   ],
   "metadata": {}
  },
  {
   "cell_type": "code",
   "execution_count": null,
   "source": [
    "!pip install -U sagemaker --quiet # Ensure latest version of SageMaker is installed"
   ],
   "outputs": [],
   "metadata": {}
  },
  {
   "cell_type": "code",
   "execution_count": null,
   "source": [
    "import sagemaker\r\n",
    "from sagemaker import get_execution_role\r\n",
    "\r\n",
    "sagemaker_session = sagemaker.Session()\r\n",
    "region = sagemaker_session.boto_region_name\r\n",
    "account = sagemaker_session.account_id()\r\n",
    "role = sagemaker.get_execution_role()\r\n",
    "\r\n",
    "default_bucket = sagemaker_session.default_bucket() # or use your own custom bucket name\r\n",
    "base_job_prefix = \"cv-sagemaker-immersionday\" # or define your own prefix\r\n",
    "\r\n",
    "model_package_group_name = f\"{base_job_prefix}-model-group\"  # Model name in model registry\r\n",
    "pipeline_name = f\"{base_job_prefix}-pipeline\"  # SageMaker Pipeline name"
   ],
   "outputs": [],
   "metadata": {}
  },
  {
   "cell_type": "markdown",
   "source": [
    "## Dataset\n",
    "\n",
    "The dataset we are using is from [Caltech Birds (CUB 200 2011)](http://www.vision.caltech.edu/visipedia/CUB-200-2011.html). \n",
    "\n",
    "Here we are using the artifact from previous labs:\n",
    "\n",
    "- S3 path to images"
   ],
   "metadata": {}
  },
  {
   "cell_type": "code",
   "execution_count": null,
   "source": [
    "s3_raw_data = f's3://{default_bucket}/{base_job_prefix}/full/data'\r\n",
    "print(s3_raw_data)"
   ],
   "outputs": [],
   "metadata": {}
  },
  {
   "cell_type": "markdown",
   "source": [
    "## Build SageMaker Pipeline"
   ],
   "metadata": {}
  },
  {
   "cell_type": "markdown",
   "source": [
    "Capture the ECR URI here from [model_evaluation lab](../03_model_evaluation/model-evaluation-processing-job.ipynb), we may use it later on. \n"
   ],
   "metadata": {}
  },
  {
   "cell_type": "code",
   "execution_count": null,
   "source": [
    "container_name = \"sagemaker-tf-container\"\r\n",
    "container_version = \"2.0\"\r\n",
    "image_uri = \"{}.dkr.ecr.{}.amazonaws.com/{}:{}\".format(account, region, container_name, container_version)\r\n",
    "\r\n",
    "print(f'image_uri: {image_uri}')"
   ],
   "outputs": [],
   "metadata": {}
  },
  {
   "cell_type": "markdown",
   "source": [
    "### Set Pipeline input parameters\r\n",
    "Define Pipeline parameters that you can use to parametrize the pipeline. Parameters enable custom pipeline executions and schedules without having to modify the Pipeline definition.\r\n",
    "\r\n",
    "The supported parameter types include:\r\n",
    "\r\n",
    "* ParameterString - represents a str Python type\r\n",
    "* ParameterInteger - represents an int Python type\r\n",
    "* ParameterFloat - represents a float Python type\r\n",
    "\r\n",
    "These parameters support providing a default value, which can be overridden on pipeline execution. The default value specified should be an instance of the type of the parameter.\r\n",
    "\r\n",
    "![Parameter Input](statics/parameters-input-zoomed.png)"
   ],
   "metadata": {}
  },
  {
   "cell_type": "markdown",
   "source": [
    "The pipeline that we create follows a typical Machine Learning Application pattern of pre-processing, training, evaluation, and model registration, as depicted in picture below.\n",
    "    \n",
    "![Pipeline](statics/pipeline.png)"
   ],
   "metadata": {}
  },
  {
   "cell_type": "code",
   "execution_count": null,
   "source": [
    "from sagemaker.workflow.parameters import (\n",
    "    ParameterInteger,\n",
    "    ParameterString,\n",
    ")\n",
    "\n",
    "# Parameters for pipeline execution\n",
    "processing_instance_count = ParameterInteger(\n",
    "    name=\"ProcessingInstanceCount\", default_value=1\n",
    ")\n",
    "\n",
    "input_data = ParameterString(\n",
    "    name=\"InputDataUrl\",\n",
    "    default_value=s3_raw_data\n",
    ")\n",
    "\n",
    "input_annotation = ParameterString(\n",
    "    name=\"AnnotationFileName\",\n",
    "    default_value=\"classes.txt\"\n",
    ")\n",
    "\n",
    "# This is a large dataset, we are only going to train a subset of the classes\n",
    "class_selection = ParameterString(\n",
    "    name=\"ClassSelection\",\n",
    "    default_value=\"13, 17, 35, 36, 47, 68, 73, 87\" #If use the mini dataset, please make sure to use the class index with the available list\n",
    ")\n",
    "\n",
    "processing_instance_type = \"ml.m5.xlarge\"\n",
    "training_instance_count = 1\n",
    "training_instance_type = \"ml.c5.4xlarge\""
   ],
   "outputs": [],
   "metadata": {}
  },
  {
   "cell_type": "markdown",
   "source": [
    "### Define Cache Configuration\r\n",
    "When step cache is defined, before SageMaker Pipelines executes a step, it attempts to find a previous execution of a step that was called with the same arguments.\r\n",
    "\r\n",
    "Pipelines doesn't check whether the actual data or code that the arguments point to has changed. If a previous execution is found, Pipelines will propagates the values from the cache hit during execution, rather than recomputing the step.\r\n",
    "\r\n",
    "Step caching is available for the following step types:\r\n",
    "\r\n",
    "* Training\r\n",
    "* Tuning\r\n",
    "* Processing\r\n",
    "* Transform"
   ],
   "metadata": {}
  },
  {
   "cell_type": "code",
   "execution_count": null,
   "source": [
    "from sagemaker.workflow.steps import CacheConfig\r\n",
    "\r\n",
    "## By enabling cache, if you run this pipeline again, without changing the input \r\n",
    "## parameters it will skip the training part and reuse the previous trained model\r\n",
    "cache_config = CacheConfig(enable_caching=True, expire_after=\"30d\")"
   ],
   "outputs": [],
   "metadata": {}
  },
  {
   "cell_type": "markdown",
   "source": [
    "### Preprocess data step\n",
    "We are taking the original code in Jupyter notebook and create a containerized script to run in a preprocessing job.\n",
    "\n",
    "The [preprocess.py](./preprocess.py) script takes in the raw images files and splits them into training, validation and test sets by class.\n",
    "It merges the class annotation files so that you have a manifest file for each separate data set. And exposes two parameters: classes (allows you to filter the number of classes you want to train the model on; default is all classes) and input-data (the human readable name of the classes).\n",
    "\n",
    "We are going to use **SKLearnProcessor** to process the data. For more detail on different type of processing jobs, please refer to the amazon documentation [here](https://docs.aws.amazon.com/sagemaker/latest/dg/processing-job.html).\n",
    "\n",
    "![Pipeline](statics/pipeline-1.png)"
   ],
   "metadata": {}
  },
  {
   "cell_type": "code",
   "execution_count": null,
   "source": [
    "from sagemaker.workflow.steps import ProcessingStep\r\n",
    "\r\n",
    "from sagemaker.sklearn.processing import SKLearnProcessor\r\n",
    "\r\n",
    "from sagemaker.processing import (\r\n",
    "    ProcessingInput,\r\n",
    "    ProcessingOutput,\r\n",
    ")\r\n",
    "import uuid\r\n",
    "\r\n",
    "# SKlearnProcessor for preprocessing\r\n",
    "\r\n",
    "sklearn_processor = SKLearnProcessor(base_job_name = f\"{base_job_prefix}-preprocess\",  # choose any name\r\n",
    "                                    framework_version='0.20.0',\r\n",
    "                                    role=role,\r\n",
    "                                    instance_type=processing_instance_type,\r\n",
    "                                    instance_count=processing_instance_count)\r\n",
    "\r\n",
    "output_s3_uri = f's3://{default_bucket}/{base_job_prefix}/outputs/pipelines/{uuid.uuid4()}'\r\n",
    "\r\n",
    "step_process = ProcessingStep(\r\n",
    "    name=\"BirdClassificationPreProcess\",  # choose any name\r\n",
    "    processor=sklearn_processor,\r\n",
    "    code=\"preprocess.py\",\r\n",
    "    job_arguments=[\"--classes\", class_selection,\r\n",
    "                \"--input-data\", input_annotation],\r\n",
    "    inputs=[ProcessingInput(source=input_data, \r\n",
    "            destination=\"/opt/ml/processing/input\")],\r\n",
    "    outputs=[\r\n",
    "        ProcessingOutput(output_name='train_data', \r\n",
    "                         source=\"/opt/ml/processing/output/train\", \r\n",
    "                         destination = output_s3_uri +'/train'),\r\n",
    "        ProcessingOutput(output_name='val_data',\r\n",
    "                         source=\"/opt/ml/processing/output/validation\", \r\n",
    "                         destination = output_s3_uri +'/validation'),\r\n",
    "        ProcessingOutput(output_name='test_data',\r\n",
    "                         source=\"/opt/ml/processing/output/test\", \r\n",
    "                         destination = output_s3_uri +'/test'),\r\n",
    "        ProcessingOutput(output_name='manifest',\r\n",
    "                         source=\"/opt/ml/processing/output/manifest\", \r\n",
    "                         destination = output_s3_uri +'/manifest'),\r\n",
    "    ],\r\n",
    "    cache_config=cache_config\r\n",
    "    )"
   ],
   "outputs": [],
   "metadata": {}
  },
  {
   "cell_type": "markdown",
   "source": [
    "### Training step\r\n",
    "We are using SageMaker's TensorFlow container, the custom TensorFlow training code is provided via a Python script in a separate file that gets passed to SageMaker ([train-mobilenet.py](./code/train-mobilenet.py)).\r\n",
    "\r\n",
    "Our Pipeline experiments with 2 training jobs, Spot and On Demand, side-by-side.  Each workload is tagged using 'TrainingType'.  It you have the permission, you can enable the User defined tag in Cost Explorer and compare the cost difference between spot and on demand training.  [Here](https://docs.aws.amazon.com/awsaccountbilling/latest/aboutv2/activating-tags.html) is how to enable user-defined tags.\r\n",
    "\r\n",
    "![Pipeline](statics/pipeline-2.png)"
   ],
   "metadata": {}
  },
  {
   "cell_type": "code",
   "execution_count": null,
   "source": [
    "from sagemaker.inputs import TrainingInput\r\n",
    "from sagemaker.workflow.steps import TrainingStep\r\n",
    "from sagemaker.tensorflow import TensorFlow\r\n",
    "\r\n",
    "TF_FRAMEWORK_VERSION = '2.4.1'\r\n",
    "\r\n",
    "hyperparameters = {'initial_epochs':     5,\r\n",
    "                   'batch_size':         8,\r\n",
    "                   'fine_tuning_epochs': 20, \r\n",
    "                   'dropout':            0.4,\r\n",
    "                   'data_dir':           '/opt/ml/input/data'}\r\n",
    "\r\n",
    "metric_definitions = [{'Name': 'loss',      'Regex': 'loss: ([0-9\\\\.]+)'},\r\n",
    "                  {'Name': 'acc',       'Regex': 'accuracy: ([0-9\\\\.]+)'},\r\n",
    "                  {'Name': 'val_loss',  'Regex': 'val_loss: ([0-9\\\\.]+)'},\r\n",
    "                  {'Name': 'val_acc',   'Regex': 'val_accuracy: ([0-9\\\\.]+)'}]\r\n",
    "\r\n",
    "if training_instance_count > 1:\r\n",
    "    distribution = {'parameter_server': {'enabled': True}}\r\n",
    "    DISTRIBUTION_MODE = 'ShardedByS3Key'\r\n",
    "else:\r\n",
    "    distribution = {'parameter_server': {'enabled': False}}\r\n",
    "    DISTRIBUTION_MODE = 'FullyReplicated'\r\n",
    "    \r\n",
    "train_in = TrainingInput(s3_data=step_process.properties.ProcessingOutputConfig.Outputs[\"train_data\"].S3Output.S3Uri,\r\n",
    "                         distribution=DISTRIBUTION_MODE)\r\n",
    "test_in  = TrainingInput(s3_data=step_process.properties.ProcessingOutputConfig.Outputs[\"test_data\"].S3Output.S3Uri,\r\n",
    "                         distribution=DISTRIBUTION_MODE)\r\n",
    "val_in   = TrainingInput(s3_data=step_process.properties.ProcessingOutputConfig.Outputs[\"val_data\"].S3Output.S3Uri,\r\n",
    "                         distribution=DISTRIBUTION_MODE)\r\n",
    "\r\n",
    "inputs = {'train':train_in, 'test': test_in, 'validation': val_in}"
   ],
   "outputs": [],
   "metadata": {}
  },
  {
   "cell_type": "code",
   "execution_count": null,
   "source": [
    "training_steps = dict()\r\n",
    "\r\n",
    "training_estimators = dict()\r\n",
    "# get out model artifacts location\r\n",
    "models = dict()\r\n",
    "\r\n",
    "training_options = ['Spot', 'OnDemand']\r\n",
    "\r\n",
    "for t in training_options:\r\n",
    "    tags = dict()\r\n",
    "    tags['Key'] = 'TrainingType'\r\n",
    "    tags['Value'] = t\r\n",
    "        # Training step for generating model artifacts\r\n",
    "    model_path = f\"{output_s3_uri}/models\"\r\n",
    "    checkpoint_s3_uri = f\"{output_s3_uri}/outputcheckpoints\"\r\n",
    "    \r\n",
    "    if t.lower() == 'spot':\r\n",
    "        estimator = TensorFlow(entry_point='train-mobilenet.py',\r\n",
    "                               source_dir='code',\r\n",
    "                               output_path=model_path,\r\n",
    "                               instance_type=training_instance_type,\r\n",
    "                               instance_count=training_instance_count,\r\n",
    "                               distribution=distribution,\r\n",
    "                               hyperparameters=hyperparameters,\r\n",
    "                               metric_definitions=metric_definitions,\r\n",
    "                               role=role,\r\n",
    "                               use_spot_instances=True,\r\n",
    "                               max_run=60*60*10,\r\n",
    "                               max_wait=60*60*12, # Seconds to wait for spot instances to become available\r\n",
    "                               checkpoint_s3_uri=checkpoint_s3_uri,\r\n",
    "                               framework_version=TF_FRAMEWORK_VERSION, \r\n",
    "                               py_version='py37',\r\n",
    "                               base_job_name=base_job_prefix,\r\n",
    "                               script_mode=True,\r\n",
    "                               tags=[tags])\r\n",
    "    else:\r\n",
    "        estimator = TensorFlow(entry_point='train-mobilenet.py',\r\n",
    "                       source_dir='code',\r\n",
    "                       output_path=model_path,\r\n",
    "                       instance_type=training_instance_type,\r\n",
    "                       instance_count=training_instance_count,\r\n",
    "                       distribution=distribution,\r\n",
    "                       hyperparameters=hyperparameters,\r\n",
    "                       metric_definitions=metric_definitions,\r\n",
    "                       role=role,\r\n",
    "                       framework_version=TF_FRAMEWORK_VERSION, \r\n",
    "                       py_version='py37',\r\n",
    "                       base_job_name=base_job_prefix,\r\n",
    "                       script_mode=True,\r\n",
    "                       tags=[tags])\r\n",
    "        \r\n",
    "    step_train = TrainingStep(\r\n",
    "        name=f\"BirdClassification{t}Train\",\r\n",
    "        estimator=estimator,\r\n",
    "        inputs=inputs,\r\n",
    "        cache_config=cache_config\r\n",
    "    )\r\n",
    "    \r\n",
    "    training_steps[t] = step_train\r\n",
    "    training_estimators[t] = estimator\r\n",
    "    models[t] = step_train.properties.ModelArtifacts.S3ModelArtifacts"
   ],
   "outputs": [],
   "metadata": {}
  },
  {
   "cell_type": "markdown",
   "source": [
    "### Model evaluation step\r\n",
    "We are going to use a ProcessingStep for our model evaluation, and we are going to use our own container from the earlier step.\r\n",
    "\r\n",
    "[evaluation.py](./evaluation.py) script  does the following:\r\n",
    "1. Load the tf model \r\n",
    "2. Run prediction\r\n",
    "3. Compare predicts vs actuals and generate the confussion matrix\r\n",
    "\r\n",
    "![Pipeline](statics/pipeline-3.png)\r\n",
    "\r\n",
    "\r\n",
    "When you register this model to the model registery, metrics generated from this step will be attached to the model version and can be visualized in SageMaker Studio like this:\r\n",
    "\r\n",
    "![Confusion Matrix](statics/confussion_matrix.png)\r\n",
    "\r\n",
    "Here are more details on the list of metric available for each type of ML problems: [AWS Documentation](https://docs.aws.amazon.com/sagemaker/latest/dg/model-monitor-model-quality-metrics.html)"
   ],
   "metadata": {}
  },
  {
   "cell_type": "code",
   "execution_count": null,
   "source": [
    "# from sagemaker.processing import ScriptProcessor\r\n",
    "from sagemaker.workflow.properties import PropertyFile\r\n",
    "from sagemaker.workflow.pipeline_context import PipelineSession\r\n",
    "\r\n",
    "from sagemaker.processing import (\r\n",
    "    ProcessingInput,\r\n",
    "    ProcessingOutput,\r\n",
    "    ScriptProcessor,\r\n",
    ")\r\n",
    "\r\n",
    "eval_steps = dict()\r\n",
    "eval_reports = dict()\r\n",
    "\r\n",
    "pipeline_session = PipelineSession()\r\n",
    "\r\n",
    "for t in training_options:\r\n",
    "    \r\n",
    "    script_eval = ScriptProcessor(\r\n",
    "        base_job_name = f\"{base_job_prefix}-evaluation\",\r\n",
    "        command=['python3'],\r\n",
    "        image_uri=image_uri,\r\n",
    "        role=role,\r\n",
    "        instance_count=processing_instance_count,\r\n",
    "        instance_type=processing_instance_type,\r\n",
    "        sagemaker_session = pipeline_session)\r\n",
    "        \r\n",
    "    step_args = script_eval.run(\r\n",
    "        code='evaluation.py',\r\n",
    "        arguments=[\"--model-file\", \"model.tar.gz\"],\r\n",
    "        inputs=[ProcessingInput(source=step_process.properties.ProcessingOutputConfig.Outputs[\"test_data\"].S3Output.S3Uri, \r\n",
    "                                destination=\"/opt/ml/processing/input/test\"),\r\n",
    "                ProcessingInput(source=step_process.properties.ProcessingOutputConfig.Outputs[\"manifest\"].S3Output.S3Uri, \r\n",
    "                                destination=\"/opt/ml/processing/input/manifest\"),\r\n",
    "                ProcessingInput(source=models[t], \r\n",
    "                                destination=\"/opt/ml/processing/model\"),\r\n",
    "               ],\r\n",
    "        outputs=[\r\n",
    "            ProcessingOutput(output_name=\"evaluation\", source=\"/opt/ml/processing/evaluation\"),\r\n",
    "        ]\r\n",
    "    )\r\n",
    "    \r\n",
    "    evaluation_report = PropertyFile(\r\n",
    "        name=f\"Evaluation{t}Report\",\r\n",
    "        output_name=\"evaluation\",\r\n",
    "        path=\"evaluation.json\",\r\n",
    "    )\r\n",
    "    \r\n",
    "    step_eval = ProcessingStep(\r\n",
    "        name=f\"BirdClassification{t}Eval\",\r\n",
    "        step_args = step_args,\r\n",
    "        property_files=[evaluation_report],\r\n",
    "        cache_config=cache_config\r\n",
    "    )\r\n",
    "\r\n",
    "    eval_steps[t] = step_eval\r\n",
    "    eval_reports[t] = evaluation_report"
   ],
   "outputs": [],
   "metadata": {}
  },
  {
   "cell_type": "markdown",
   "source": [
    "### Register model step\n",
    "In this step, the resulting model artifacts is register as a model package in a model package group. \n",
    "\n",
    "A model package is a reusable model artifacts abstraction that packages all ingredients required for inference. It also captures the metrics from the evaluation step for future comparison.\n",
    "\n",
    "A model package group is a collection of model packages, usually different model versions.  It also enables the user to compare metric accross different models.  \n",
    "\n",
    "Specifically, pass in the S3ModelArtifacts from the TrainingStep, step_train properties. The TrainingStep properties attribute matches the object model of the DescribeTrainingJob response object.\n",
    "\n",
    "![Pipeline](statics/pipeline-5.png)"
   ],
   "metadata": {}
  },
  {
   "cell_type": "code",
   "execution_count": null,
   "source": [
    "from sagemaker.model_metrics import MetricsSource, ModelMetrics\r\n",
    "from sagemaker.workflow.step_collections import RegisterModel\r\n",
    "\r\n",
    "model_register_steps = dict()\r\n",
    "\r\n",
    "for t in training_options:\r\n",
    "    # Create ModelMetrics object using the evaluation report from the evaluation step\r\n",
    "    # A ModelMetrics object contains metrics captured from a model.\r\n",
    "    model_metrics = ModelMetrics(\r\n",
    "        model_statistics=MetricsSource(\r\n",
    "            s3_uri=\"{}/evaluation.json\".format(\r\n",
    "                eval_steps[t].arguments[\"ProcessingOutputConfig\"][\"Outputs\"][0][\"S3Output\"][\r\n",
    "                    \"S3Uri\"\r\n",
    "                ]\r\n",
    "            ),\r\n",
    "            content_type=\"application/json\",\r\n",
    "        )\r\n",
    "    )\r\n",
    "    \r\n",
    "    # Crete a RegisterModel step, which registers the model with Sagemaker Model Registry.\r\n",
    "    step_register = RegisterModel(\r\n",
    "        name=f\"Register{t}Model\",\r\n",
    "        estimator=training_estimators[t],\r\n",
    "        model_data=models[t],\r\n",
    "        content_types=[\"application/x-image\"],\r\n",
    "        response_types=[\"application/json\"],\r\n",
    "        inference_instances=[\"ml.t2.medium\", \"ml.m5.large\"],\r\n",
    "        transform_instances=[\"ml.m5.large\"],\r\n",
    "        model_package_group_name=model_package_group_name,\r\n",
    "        model_metrics=model_metrics,\r\n",
    "    )\r\n",
    "    \r\n",
    "    model_register_steps[t] = step_register"
   ],
   "outputs": [],
   "metadata": {}
  },
  {
   "cell_type": "markdown",
   "source": [
    "### Accuracy condition step\n",
    "This condition step only allows the model to be registered if the accuracy of the model, as determined by the evaluation step step_eval, exceeded a specified value. A ConditionStep enables pipelines to support conditional execution in the pipeline DAG based on the conditions of the step properties.\n",
    "\n",
    "![Pipeline](statics/pipeline-4.png)"
   ],
   "metadata": {}
  },
  {
   "cell_type": "code",
   "execution_count": null,
   "source": [
    "from sagemaker.workflow.conditions import ConditionGreaterThanOrEqualTo\r\n",
    "from sagemaker.workflow.condition_step import ConditionStep\r\n",
    "from sagemaker.workflow.functions import JsonGet\r\n",
    "\r\n",
    "condition_steps = dict()\r\n",
    "\r\n",
    "for t in training_options:\r\n",
    "    \r\n",
    "    # Create accuracy condition to ensure the model meets performance requirements.\r\n",
    "    # Models with a test accuracy lower than the condition will not be registered with the model registry.\r\n",
    "    cond_gte = ConditionGreaterThanOrEqualTo(\r\n",
    "        left=JsonGet(\r\n",
    "            step_name=eval_steps[t].name,\r\n",
    "            property_file=eval_reports[t],\r\n",
    "            json_path=\"multiclass_classification_metrics.accuracy.value\",\r\n",
    "        ),\r\n",
    "        right=0.7,\r\n",
    "    )\r\n",
    "\r\n",
    "    # Create a Sagemaker Pipelines ConditionStep, using the condition above.\r\n",
    "    # Enter the steps to perform if the condition returns True / False.\r\n",
    "    step_cond = ConditionStep(\r\n",
    "        name=f\"BirdClassification{t}Condition\",\r\n",
    "        conditions=[cond_gte],\r\n",
    "        if_steps=[model_register_steps[t]],\r\n",
    "        else_steps=[],\r\n",
    "    )\r\n",
    "    \r\n",
    "    condition_steps[t] = step_cond"
   ],
   "outputs": [],
   "metadata": {}
  },
  {
   "cell_type": "markdown",
   "source": [
    "### Pipeline Creation\n",
    "\n",
    "Last step is to combine all the previous steps into a Pipeline so it can be executed.\n",
    "\n",
    "A pipeline requires a name, parameters, and steps. Names must be unique within an (account, region) pair."
   ],
   "metadata": {}
  },
  {
   "cell_type": "code",
   "execution_count": null,
   "source": [
    "from sagemaker.workflow.pipeline import Pipeline\r\n",
    "\r\n",
    "\r\n",
    "# Create a Sagemaker Pipeline.\r\n",
    "# Each parameter for the pipeline must be set as a parameter explicitly when the pipeline is created.\r\n",
    "\r\n",
    "# build the steps\r\n",
    "steps = [step_process]\r\n",
    "for t in training_steps:\r\n",
    "    steps.append(training_steps[t])\r\n",
    "    \r\n",
    "for e in eval_steps:\r\n",
    "    steps.append(eval_steps[e])\r\n",
    "    \r\n",
    "for c in condition_steps:\r\n",
    "    steps.append(condition_steps[c])\r\n",
    "\r\n",
    "pipeline = Pipeline(\r\n",
    "    name=pipeline_name,\r\n",
    "    parameters=[\r\n",
    "        processing_instance_count,\r\n",
    "        input_data,\r\n",
    "        input_annotation,\r\n",
    "        class_selection\r\n",
    "    ],\r\n",
    "    steps=steps,\r\n",
    "    sagemaker_session=sagemaker_session,\r\n",
    ")"
   ],
   "outputs": [],
   "metadata": {}
  },
  {
   "cell_type": "markdown",
   "source": [
    "### Submit and trig pipeline\n",
    "Submit the pipeline definition to the Pipeline service. The role passed in will be used by the Pipeline service to create all the jobs defined in the steps.\n",
    "\n",
    "Once a pipeline has been submited (pipeline.upsert()), user can trigger the pipeline using the API (pipeline.start()) or through the SageMaker Studo UI:\n",
    "\n",
    "![Pipeline UI Trigger](statics/studio-ui-pipeline.png)\n",
    "\n",
    "![Pipeline Code Trigger](statics/execute-pipeline.png)"
   ],
   "metadata": {}
  },
  {
   "cell_type": "code",
   "execution_count": null,
   "source": [
    "# Submit pipline\r\n",
    "pipeline.upsert(role_arn=role)\r\n",
    "\r\n",
    "# Execute pipeline using the default parameters.\r\n",
    "execution = pipeline.start()"
   ],
   "outputs": [],
   "metadata": {}
  },
  {
   "cell_type": "markdown",
   "source": [
    "### Analyzing Results\n",
    "You can compre different version of model by selecting multiple versions and right-click -> Compare model versions.  If you have visuallizations, you graph may overlap depending on how complete your use case is.\n",
    "\n",
    "![Model Comparison](statics/compare-model.png)"
   ],
   "metadata": {}
  },
  {
   "cell_type": "markdown",
   "source": [
    "## Execute same pipeline in one continuous script\n",
    "To operationalize this pipeline, we also provide this code in a continuous script.  Please review this [pipeline.py](./pipeline.py) file.  Here is the code to execute the script to build and run a pipeline."
   ],
   "metadata": {}
  },
  {
   "cell_type": "code",
   "execution_count": null,
   "source": [
    "import boto3\r\n",
    "import sagemaker\r\n",
    "import time\r\n",
    "import json\r\n",
    "\r\n",
    "sagemaker_session = sagemaker.Session()\r\n",
    "region = sagemaker_session.boto_region_name\r\n",
    "role = sagemaker.get_execution_role()\r\n",
    "\r\n",
    "default_bucket = sagemaker_session.default_bucket() # or use your own custom bucket name\r\n",
    "base_job_prefix = \"cv-sagemaker-immersionday\" # or define your own prefix\r\n",
    "\r\n",
    "model_package_group_name2 = f\"{base_job_prefix}-model-group2\"  # Model name in model registry\r\n",
    "pipeline_name2 = f\"{base_job_prefix}-pipeline2\"  # SageMaker Pipeline name"
   ],
   "outputs": [],
   "metadata": {}
  },
  {
   "cell_type": "markdown",
   "source": [
    "This is how to load the pipeline definition."
   ],
   "metadata": {}
  },
  {
   "cell_type": "code",
   "execution_count": null,
   "source": [
    "from pipeline import get_pipeline\r\n",
    "\r\n",
    "pipeline2 = get_pipeline(\r\n",
    "    region=region,\r\n",
    "    role=role,\r\n",
    "    default_bucket=default_bucket,\r\n",
    "    model_package_group_name=model_package_group_name2,\r\n",
    "    pipeline_name=pipeline_name2,\r\n",
    "    base_job_prefix=base_job_prefix,\r\n",
    "    container_name=container_name,\r\n",
    "    container_version=container_version\r\n",
    ")"
   ],
   "outputs": [],
   "metadata": {}
  },
  {
   "cell_type": "markdown",
   "source": [
    "This is how to submit/update the pipeline."
   ],
   "metadata": {}
  },
  {
   "cell_type": "code",
   "execution_count": null,
   "source": [
    "pipeline2.upsert(role_arn=role)"
   ],
   "outputs": [],
   "metadata": {}
  },
  {
   "cell_type": "markdown",
   "source": [
    "This is how to run the pipeline and overwrite the parameters."
   ],
   "metadata": {}
  },
  {
   "cell_type": "code",
   "execution_count": null,
   "source": [
    "execution = pipeline2.start(\r\n",
    "    parameters=dict(\r\n",
    "        InputDataUrl=s3_raw_data, # loaction of the raw data\r\n",
    "        ProcessingInstanceCount=1,\r\n",
    "#         ProcessingInstanceType=\"ml.m5.xlarge\",\r\n",
    "#         TrainingInstanceCount=1,\r\n",
    "#         TrainingInstanceType=\"ml.c5.4xlarge\",#\"ml.p3.2xlarge\",#\r\n",
    "        AnnotationFileName=\"classes.txt\",\r\n",
    "        ClassSelection=\"13, 17, 35, 36\"\r\n",
    "    )\r\n",
    ")"
   ],
   "outputs": [],
   "metadata": {}
  },
  {
   "cell_type": "markdown",
   "source": [
    "## Manual approval for deployment\r\n",
    "\r\n",
    "---\r\n",
    "After you create a model version, you typically want to evaluate its performance before you deploy it. So the pipeline default the approval status to `PendingManualApproval`. You can manually update or update using API to change the status to Approved or Rejected.  Here is how you manually update from SageMaker studio UI:\r\n",
    "\r\n",
    "![Manual Approval](statics/manual_approval.png)"
   ],
   "metadata": {}
  },
  {
   "cell_type": "markdown",
   "source": [
    "Amazon EventBridge monitors status change events in Amazon SageMaker. EventBridge enables you to automate SageMaker and respond automatically to events such as a training job status change, endpoint status change, or **Model package state change**.\r\n",
    "\r\n",
    "Please reference [AWS Documentation](https://docs.aws.amazon.com/sagemaker/latest/dg/automating-sagemaker-with-eventbridge.html#eventbridge-model-package) documentation for the entire event of Model package state change.\r\n",
    "\r\n",
    "To automate the deployment process, You can use event bridge to Invoke a **deployment Lambda function** that checks the `ModelApprovalStatus` attribute in the event. If the status is **Approved** the Lambda will continue with the deployement."
   ],
   "metadata": {}
  }
 ],
 "metadata": {
  "instance_type": "ml.t3.medium",
  "kernelspec": {
   "display_name": "Python 3 (Data Science)",
   "language": "python",
   "name": "python3__SAGEMAKER_INTERNAL__arn:aws:sagemaker:eu-west-1:470317259841:image/datascience-1.0"
  },
  "language_info": {
   "codemirror_mode": {
    "name": "ipython",
    "version": 3
   },
   "file_extension": ".py",
   "mimetype": "text/x-python",
   "name": "python",
   "nbconvert_exporter": "python",
   "pygments_lexer": "ipython3",
   "version": "3.7.10"
  }
 },
 "nbformat": 4,
 "nbformat_minor": 4
}